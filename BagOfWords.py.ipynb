{
 "cells": [
  {
   "cell_type": "code",
   "execution_count": 1,
   "id": "94c0b22a",
   "metadata": {},
   "outputs": [],
   "source": [
    "import nltk \n",
    "               \n",
    "# Cleaning the texts\n",
    "import re\n",
    "from nltk.corpus import stopwords\n",
    "from nltk.stem.porter import PorterStemmer #stemming\n",
    "from nltk.stem import WordNetLemmatizer   #lemmatization\n"
   ]
  },
  {
   "cell_type": "code",
   "execution_count": 2,
   "id": "383e2f82",
   "metadata": {},
   "outputs": [],
   "source": [
    "paragraph =  \"\"\"Coronavirus disease 2019 (COVID-19) is a contagious disease caused by the coronavirus SARS-CoV-2.\n",
    "The first known case was identified in Wuhan, China, in December 2019.\n",
    "[7] The disease quickly spread worldwide, resulting in the ongoing COVID-19 pandemic.\n",
    "The symptoms of COVID‑19 are variable but often include fever,[8] fatigue, cough,\n",
    "breathing difficulties, loss of smell, and loss of taste.[9][10][11] \n",
    "Symptoms may begin one to fourteen days after exposure to the virus. \n",
    "At least a third of people who are infected do not develop noticeable symptoms.\n",
    "[12][13] Of those who develop symptoms noticeable enough to be classified as patients, \n",
    "most (81%) develop mild to moderate symptoms (up to mild pneumonia), \n",
    "while 14% develop severe symptoms (dyspnea, hypoxia, or more than 50% lung involvement on imaging),\n",
    " and 5% develop critical symptoms (respiratory failure, shock, or multiorgan dysfunction).\n",
    " [14] Older people are at a higher risk of developing severe symptoms. \n",
    " Some complications result in death. Some people continue to experience a range of effects \n",
    " (long COVID) for months or years after infection, and damage to organs has been observed.\n",
    " [15] Multi-year studies are underway to further investigate the long-term effects of the disease.\n",
    "[16]\n",
    "COVID‑19 transmission occurs when infectious particles are breathed in or come into contact \n",
    "with the eyes, nose, or mouth. The risk is highest when people are in close proximity, \n",
    "but small airborne particles containing the virus can remain suspended in the air and travel \n",
    "over longer distances, particularly indoors. Transmission can also occur when people touch \n",
    "their eyes, nose or mouth after touching surfaces or objects that have been contaminated by \n",
    "the virus. People remain contagious for up to 20 days and can spread the virus even if they \n",
    "do not develop symptoms.[17]\n",
    "Testing methods for COVID-19 to detect the virus's nucleic acid include real-time reverse \n",
    "transcription polymerase chain reaction (RT‑PCR),[18][19] transcription-mediated amplification,\n",
    "[18][19][20] and reverse transcription loop-mediated isothermal amplification (RT‑LAMP)[18][19] \n",
    "from a nasopharyngeal swab.[21]\n",
    "Several COVID-19 vaccines have been approved and distributed in various countries, \n",
    "many of which have initiated mass vaccination campaigns. Other preventive measures \n",
    "include physical or social distancing, quarantining, ventilation of indoor spaces, \n",
    "use of face masks or coverings in public, covering coughs and sneezes, hand washing, \n",
    "and keeping unwashed hands away from the face. While drugs have been developed to inhibit \n",
    "the virus, the primary treatment is still symptomatic, managing the disease through supportive \n",
    "care, isolation, and experimental measures.\"\"\"\n",
    "\n",
    "\n",
    "ps = PorterStemmer()\n",
    "#wordnet=WordNetLemmatizer()\n",
    "sentences = nltk.sent_tokenize(paragraph)\n",
    "corpus = []"
   ]
  },
  {
   "cell_type": "code",
   "execution_count": 3,
   "id": "cf1dcf69",
   "metadata": {},
   "outputs": [
    {
     "data": {
      "text/plain": [
       "['Coronavirus disease 2019 (COVID-19) is a contagious disease caused by the coronavirus SARS-CoV-2.',\n",
       " 'The first known case was identified in Wuhan, China, in December 2019.',\n",
       " '[7] The disease quickly spread worldwide, resulting in the ongoing COVID-19 pandemic.',\n",
       " 'The symptoms of COVID‑19 are variable but often include fever,[8] fatigue, cough,\\nbreathing difficulties, loss of smell, and loss of taste.',\n",
       " '[9][10][11] \\nSymptoms may begin one to fourteen days after exposure to the virus.',\n",
       " 'At least a third of people who are infected do not develop noticeable symptoms.',\n",
       " '[12][13] Of those who develop symptoms noticeable enough to be classified as patients, \\nmost (81%) develop mild to moderate symptoms (up to mild pneumonia), \\nwhile 14% develop severe symptoms (dyspnea, hypoxia, or more than 50% lung involvement on imaging),\\n and 5% develop critical symptoms (respiratory failure, shock, or multiorgan dysfunction).',\n",
       " '[14] Older people are at a higher risk of developing severe symptoms.',\n",
       " 'Some complications result in death.',\n",
       " 'Some people continue to experience a range of effects \\n (long COVID) for months or years after infection, and damage to organs has been observed.',\n",
       " '[15] Multi-year studies are underway to further investigate the long-term effects of the disease.',\n",
       " '[16]\\nCOVID‑19 transmission occurs when infectious particles are breathed in or come into contact \\nwith the eyes, nose, or mouth.',\n",
       " 'The risk is highest when people are in close proximity, \\nbut small airborne particles containing the virus can remain suspended in the air and travel \\nover longer distances, particularly indoors.',\n",
       " 'Transmission can also occur when people touch \\ntheir eyes, nose or mouth after touching surfaces or objects that have been contaminated by \\nthe virus.',\n",
       " 'People remain contagious for up to 20 days and can spread the virus even if they \\ndo not develop symptoms.',\n",
       " \"[17]\\nTesting methods for COVID-19 to detect the virus's nucleic acid include real-time reverse \\ntranscription polymerase chain reaction (RT‑PCR),[18][19] transcription-mediated amplification,\\n[18][19][20] and reverse transcription loop-mediated isothermal amplification (RT‑LAMP)[18][19] \\nfrom a nasopharyngeal swab.\",\n",
       " '[21]\\nSeveral COVID-19 vaccines have been approved and distributed in various countries, \\nmany of which have initiated mass vaccination campaigns.',\n",
       " 'Other preventive measures \\ninclude physical or social distancing, quarantining, ventilation of indoor spaces, \\nuse of face masks or coverings in public, covering coughs and sneezes, hand washing, \\nand keeping unwashed hands away from the face.',\n",
       " 'While drugs have been developed to inhibit \\nthe virus, the primary treatment is still symptomatic, managing the disease through supportive \\ncare, isolation, and experimental measures.']"
      ]
     },
     "execution_count": 3,
     "metadata": {},
     "output_type": "execute_result"
    }
   ],
   "source": [
    "sentences"
   ]
  },
  {
   "cell_type": "code",
   "execution_count": 4,
   "id": "4a2e7f36",
   "metadata": {},
   "outputs": [],
   "source": [
    "for i in range(len(sentences)):\n",
    "    review = re.sub('[^a-zA-Z]', ' ', sentences[i])\n",
    "    review = review.lower()\n",
    "    review = review.split()\n",
    "    review = [ps.stem(word) for word in review if not word in set(stopwords.words('english'))]\n",
    "    review = ' '.join(review)\n",
    "    corpus.append(review)\n"
   ]
  },
  {
   "cell_type": "code",
   "execution_count": 5,
   "id": "55f044b7",
   "metadata": {},
   "outputs": [
    {
     "data": {
      "text/plain": [
       "['coronaviru diseas covid contagi diseas caus coronaviru sar cov',\n",
       " 'first known case identifi wuhan china decemb',\n",
       " 'diseas quickli spread worldwid result ongo covid pandem',\n",
       " 'symptom covid variabl often includ fever fatigu cough breath difficulti loss smell loss tast',\n",
       " 'symptom may begin one fourteen day exposur viru',\n",
       " 'least third peopl infect develop notic symptom',\n",
       " 'develop symptom notic enough classifi patient develop mild moder symptom mild pneumonia develop sever symptom dyspnea hypoxia lung involv imag develop critic symptom respiratori failur shock multiorgan dysfunct',\n",
       " 'older peopl higher risk develop sever symptom',\n",
       " 'complic result death',\n",
       " 'peopl continu experi rang effect long covid month year infect damag organ observ',\n",
       " 'multi year studi underway investig long term effect diseas',\n",
       " 'covid transmiss occur infecti particl breath come contact eye nose mouth',\n",
       " 'risk highest peopl close proxim small airborn particl contain viru remain suspend air travel longer distanc particularli indoor',\n",
       " 'transmiss also occur peopl touch eye nose mouth touch surfac object contamin viru',\n",
       " 'peopl remain contagi day spread viru even develop symptom',\n",
       " 'test method covid detect viru nucleic acid includ real time revers transcript polymeras chain reaction rt pcr transcript mediat amplif revers transcript loop mediat isotherm amplif rt lamp nasopharyng swab',\n",
       " 'sever covid vaccin approv distribut variou countri mani initi mass vaccin campaign',\n",
       " 'prevent measur includ physic social distanc quarantin ventil indoor space use face mask cover public cover cough sneez hand wash keep unwash hand away face',\n",
       " 'drug develop inhibit viru primari treatment still symptomat manag diseas support care isol experiment measur']"
      ]
     },
     "execution_count": 5,
     "metadata": {},
     "output_type": "execute_result"
    }
   ],
   "source": [
    "corpus"
   ]
  },
  {
   "cell_type": "code",
   "execution_count": 6,
   "id": "4ab98eef",
   "metadata": {},
   "outputs": [],
   "source": [
    "# Creating the Bag of Words model\n",
    "from sklearn.feature_extraction.text import CountVectorizer\n",
    "cv = CountVectorizer()\n",
    "X = cv.fit_transform(corpus).toarray()"
   ]
  },
  {
   "cell_type": "code",
   "execution_count": 10,
   "id": "2dfb73d0",
   "metadata": {},
   "outputs": [],
   "source": [
    "from sklearn.feature_extraction.text import TfidfVectorizer\n",
    "cv = TfidfVectorizer()\n",
    "X = cv.fit_transform(corpus).toarray()"
   ]
  },
  {
   "cell_type": "code",
   "execution_count": 11,
   "id": "2535d910",
   "metadata": {},
   "outputs": [
    {
     "data": {
      "text/plain": [
       "array([[0.        , 0.        , 0.        , ..., 0.        , 0.        ,\n",
       "        0.        ],\n",
       "       [0.        , 0.        , 0.        , ..., 0.        , 0.37796447,\n",
       "        0.        ],\n",
       "       [0.        , 0.        , 0.        , ..., 0.39535207, 0.        ,\n",
       "        0.        ],\n",
       "       ...,\n",
       "       [0.        , 0.        , 0.        , ..., 0.        , 0.        ,\n",
       "        0.        ],\n",
       "       [0.        , 0.        , 0.        , ..., 0.        , 0.        ,\n",
       "        0.        ],\n",
       "       [0.        , 0.        , 0.        , ..., 0.        , 0.        ,\n",
       "        0.        ]])"
      ]
     },
     "execution_count": 11,
     "metadata": {},
     "output_type": "execute_result"
    }
   ],
   "source": [
    "X"
   ]
  },
  {
   "cell_type": "code",
   "execution_count": null,
   "id": "c589f920",
   "metadata": {},
   "outputs": [],
   "source": []
  }
 ],
 "metadata": {
  "kernelspec": {
   "display_name": "Python 3",
   "language": "python",
   "name": "python3"
  },
  "language_info": {
   "codemirror_mode": {
    "name": "ipython",
    "version": 3
   },
   "file_extension": ".py",
   "mimetype": "text/x-python",
   "name": "python",
   "nbconvert_exporter": "python",
   "pygments_lexer": "ipython3",
   "version": "3.8.8"
  }
 },
 "nbformat": 4,
 "nbformat_minor": 5
}
